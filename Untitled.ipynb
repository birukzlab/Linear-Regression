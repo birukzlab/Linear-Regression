{
 "cells": [
  {
   "cell_type": "code",
   "execution_count": 64,
   "id": "546a0fc8",
   "metadata": {},
   "outputs": [],
   "source": [
    "\n",
    "\n",
    "import pandas as pd\n",
    "import numpy as np\n",
    "import matplotlib as plt\n",
    "import seaborn as sns\n",
    "import statsmodels.api as sm\n",
    "from scipy.stats import f\n",
    "\n",
    "import statsmodels.formula.api as smf\n",
    "%matplotlib inline"
   ]
  },
  {
   "cell_type": "code",
   "execution_count": 36,
   "id": "5f58bea1",
   "metadata": {},
   "outputs": [],
   "source": [
    "def mean(x):\n",
    "    res = sum(x)/len(x)\n",
    "    return(res)"
   ]
  },
  {
   "cell_type": "code",
   "execution_count": 10,
   "id": "fb736451",
   "metadata": {},
   "outputs": [],
   "source": [
    "dat = pd.read_csv('Advertising.csv')\n",
    "dat.head()\n",
    "dat['const'] = 1"
   ]
  },
  {
   "cell_type": "code",
   "execution_count": 11,
   "id": "a8997782",
   "metadata": {},
   "outputs": [
    {
     "data": {
      "text/html": [
       "<div>\n",
       "<style scoped>\n",
       "    .dataframe tbody tr th:only-of-type {\n",
       "        vertical-align: middle;\n",
       "    }\n",
       "\n",
       "    .dataframe tbody tr th {\n",
       "        vertical-align: top;\n",
       "    }\n",
       "\n",
       "    .dataframe thead th {\n",
       "        text-align: right;\n",
       "    }\n",
       "</style>\n",
       "<table border=\"1\" class=\"dataframe\">\n",
       "  <thead>\n",
       "    <tr style=\"text-align: right;\">\n",
       "      <th></th>\n",
       "      <th>Unnamed: 0</th>\n",
       "      <th>TV</th>\n",
       "      <th>Radio</th>\n",
       "      <th>Newspaper</th>\n",
       "      <th>Sales</th>\n",
       "      <th>const</th>\n",
       "    </tr>\n",
       "  </thead>\n",
       "  <tbody>\n",
       "    <tr>\n",
       "      <th>0</th>\n",
       "      <td>1</td>\n",
       "      <td>230.1</td>\n",
       "      <td>37.8</td>\n",
       "      <td>69.2</td>\n",
       "      <td>22.1</td>\n",
       "      <td>1</td>\n",
       "    </tr>\n",
       "    <tr>\n",
       "      <th>1</th>\n",
       "      <td>2</td>\n",
       "      <td>44.5</td>\n",
       "      <td>39.3</td>\n",
       "      <td>45.1</td>\n",
       "      <td>10.4</td>\n",
       "      <td>1</td>\n",
       "    </tr>\n",
       "    <tr>\n",
       "      <th>2</th>\n",
       "      <td>3</td>\n",
       "      <td>17.2</td>\n",
       "      <td>45.9</td>\n",
       "      <td>69.3</td>\n",
       "      <td>9.3</td>\n",
       "      <td>1</td>\n",
       "    </tr>\n",
       "    <tr>\n",
       "      <th>3</th>\n",
       "      <td>4</td>\n",
       "      <td>151.5</td>\n",
       "      <td>41.3</td>\n",
       "      <td>58.5</td>\n",
       "      <td>18.5</td>\n",
       "      <td>1</td>\n",
       "    </tr>\n",
       "    <tr>\n",
       "      <th>4</th>\n",
       "      <td>5</td>\n",
       "      <td>180.8</td>\n",
       "      <td>10.8</td>\n",
       "      <td>58.4</td>\n",
       "      <td>12.9</td>\n",
       "      <td>1</td>\n",
       "    </tr>\n",
       "  </tbody>\n",
       "</table>\n",
       "</div>"
      ],
      "text/plain": [
       "   Unnamed: 0     TV  Radio  Newspaper  Sales  const\n",
       "0           1  230.1   37.8       69.2   22.1      1\n",
       "1           2   44.5   39.3       45.1   10.4      1\n",
       "2           3   17.2   45.9       69.3    9.3      1\n",
       "3           4  151.5   41.3       58.5   18.5      1\n",
       "4           5  180.8   10.8       58.4   12.9      1"
      ]
     },
     "execution_count": 11,
     "metadata": {},
     "output_type": "execute_result"
    }
   ],
   "source": [
    "dat.head()"
   ]
  },
  {
   "cell_type": "code",
   "execution_count": 16,
   "id": "9f5e3364",
   "metadata": {},
   "outputs": [],
   "source": [
    "mod = sm.OLS(dat['Sales'], dat[['const', 'TV', 'Radio', 'Newspaper']])\n",
    "mod=mod.fit()"
   ]
  },
  {
   "cell_type": "code",
   "execution_count": 17,
   "id": "1a52d7bd",
   "metadata": {},
   "outputs": [
    {
     "data": {
      "text/html": [
       "<table class=\"simpletable\">\n",
       "<caption>OLS Regression Results</caption>\n",
       "<tr>\n",
       "  <th>Dep. Variable:</th>          <td>Sales</td>      <th>  R-squared:         </th> <td>   0.897</td>\n",
       "</tr>\n",
       "<tr>\n",
       "  <th>Model:</th>                   <td>OLS</td>       <th>  Adj. R-squared:    </th> <td>   0.896</td>\n",
       "</tr>\n",
       "<tr>\n",
       "  <th>Method:</th>             <td>Least Squares</td>  <th>  F-statistic:       </th> <td>   570.3</td>\n",
       "</tr>\n",
       "<tr>\n",
       "  <th>Date:</th>             <td>Wed, 14 Sep 2022</td> <th>  Prob (F-statistic):</th> <td>1.58e-96</td>\n",
       "</tr>\n",
       "<tr>\n",
       "  <th>Time:</th>                 <td>14:57:49</td>     <th>  Log-Likelihood:    </th> <td> -386.18</td>\n",
       "</tr>\n",
       "<tr>\n",
       "  <th>No. Observations:</th>      <td>   200</td>      <th>  AIC:               </th> <td>   780.4</td>\n",
       "</tr>\n",
       "<tr>\n",
       "  <th>Df Residuals:</th>          <td>   196</td>      <th>  BIC:               </th> <td>   793.6</td>\n",
       "</tr>\n",
       "<tr>\n",
       "  <th>Df Model:</th>              <td>     3</td>      <th>                     </th>     <td> </td>   \n",
       "</tr>\n",
       "<tr>\n",
       "  <th>Covariance Type:</th>      <td>nonrobust</td>    <th>                     </th>     <td> </td>   \n",
       "</tr>\n",
       "</table>\n",
       "<table class=\"simpletable\">\n",
       "<tr>\n",
       "      <td></td>         <th>coef</th>     <th>std err</th>      <th>t</th>      <th>P>|t|</th>  <th>[0.025</th>    <th>0.975]</th>  \n",
       "</tr>\n",
       "<tr>\n",
       "  <th>const</th>     <td>    2.9389</td> <td>    0.312</td> <td>    9.422</td> <td> 0.000</td> <td>    2.324</td> <td>    3.554</td>\n",
       "</tr>\n",
       "<tr>\n",
       "  <th>TV</th>        <td>    0.0458</td> <td>    0.001</td> <td>   32.809</td> <td> 0.000</td> <td>    0.043</td> <td>    0.049</td>\n",
       "</tr>\n",
       "<tr>\n",
       "  <th>Radio</th>     <td>    0.1885</td> <td>    0.009</td> <td>   21.893</td> <td> 0.000</td> <td>    0.172</td> <td>    0.206</td>\n",
       "</tr>\n",
       "<tr>\n",
       "  <th>Newspaper</th> <td>   -0.0010</td> <td>    0.006</td> <td>   -0.177</td> <td> 0.860</td> <td>   -0.013</td> <td>    0.011</td>\n",
       "</tr>\n",
       "</table>\n",
       "<table class=\"simpletable\">\n",
       "<tr>\n",
       "  <th>Omnibus:</th>       <td>60.414</td> <th>  Durbin-Watson:     </th> <td>   2.084</td>\n",
       "</tr>\n",
       "<tr>\n",
       "  <th>Prob(Omnibus):</th> <td> 0.000</td> <th>  Jarque-Bera (JB):  </th> <td> 151.241</td>\n",
       "</tr>\n",
       "<tr>\n",
       "  <th>Skew:</th>          <td>-1.327</td> <th>  Prob(JB):          </th> <td>1.44e-33</td>\n",
       "</tr>\n",
       "<tr>\n",
       "  <th>Kurtosis:</th>      <td> 6.332</td> <th>  Cond. No.          </th> <td>    454.</td>\n",
       "</tr>\n",
       "</table><br/><br/>Notes:<br/>[1] Standard Errors assume that the covariance matrix of the errors is correctly specified."
      ],
      "text/plain": [
       "<class 'statsmodels.iolib.summary.Summary'>\n",
       "\"\"\"\n",
       "                            OLS Regression Results                            \n",
       "==============================================================================\n",
       "Dep. Variable:                  Sales   R-squared:                       0.897\n",
       "Model:                            OLS   Adj. R-squared:                  0.896\n",
       "Method:                 Least Squares   F-statistic:                     570.3\n",
       "Date:                Wed, 14 Sep 2022   Prob (F-statistic):           1.58e-96\n",
       "Time:                        14:57:49   Log-Likelihood:                -386.18\n",
       "No. Observations:                 200   AIC:                             780.4\n",
       "Df Residuals:                     196   BIC:                             793.6\n",
       "Df Model:                           3                                         \n",
       "Covariance Type:            nonrobust                                         \n",
       "==============================================================================\n",
       "                 coef    std err          t      P>|t|      [0.025      0.975]\n",
       "------------------------------------------------------------------------------\n",
       "const          2.9389      0.312      9.422      0.000       2.324       3.554\n",
       "TV             0.0458      0.001     32.809      0.000       0.043       0.049\n",
       "Radio          0.1885      0.009     21.893      0.000       0.172       0.206\n",
       "Newspaper     -0.0010      0.006     -0.177      0.860      -0.013       0.011\n",
       "==============================================================================\n",
       "Omnibus:                       60.414   Durbin-Watson:                   2.084\n",
       "Prob(Omnibus):                  0.000   Jarque-Bera (JB):              151.241\n",
       "Skew:                          -1.327   Prob(JB):                     1.44e-33\n",
       "Kurtosis:                       6.332   Cond. No.                         454.\n",
       "==============================================================================\n",
       "\n",
       "Notes:\n",
       "[1] Standard Errors assume that the covariance matrix of the errors is correctly specified.\n",
       "\"\"\""
      ]
     },
     "execution_count": 17,
     "metadata": {},
     "output_type": "execute_result"
    }
   ],
   "source": [
    "mod.summary()\n"
   ]
  },
  {
   "cell_type": "code",
   "execution_count": 38,
   "id": "11a4f9d0",
   "metadata": {},
   "outputs": [
    {
     "data": {
      "text/plain": [
       "5417.148749999998"
      ]
     },
     "execution_count": 38,
     "metadata": {},
     "output_type": "execute_result"
    }
   ],
   "source": [
    "### manually ####\n",
    "\n",
    "Sales = dat['Sales'].values\n",
    "\n",
    "TSS = sum([(x - mean(Sales))**2 for x in Sales])\n",
    "\n",
    "TSS\n"
   ]
  },
  {
   "cell_type": "code",
   "execution_count": 29,
   "id": "a293ef53",
   "metadata": {},
   "outputs": [
    {
     "data": {
      "text/plain": [
       "556.8252629021874"
      ]
     },
     "execution_count": 29,
     "metadata": {},
     "output_type": "execute_result"
    }
   ],
   "source": [
    "RSS = sum([(Sales[i] - mod.fittedvalues[i])**2 for i in range(len(Sales))])\n",
    "RSS"
   ]
  },
  {
   "cell_type": "code",
   "execution_count": 39,
   "id": "ca7b791c",
   "metadata": {},
   "outputs": [],
   "source": [
    "p = 3\n",
    "n = len(Sales)"
   ]
  },
  {
   "cell_type": "code",
   "execution_count": 42,
   "id": "4fd2ef47",
   "metadata": {},
   "outputs": [
    {
     "data": {
      "text/plain": [
       "570.2707036590937"
      ]
     },
     "execution_count": 42,
     "metadata": {},
     "output_type": "execute_result"
    }
   ],
   "source": [
    "F_stat = ((TSS - RSS)/p) / (RSS/(n-p-1))\n",
    "F_stat\n",
    "\n"
   ]
  },
  {
   "cell_type": "code",
   "execution_count": 44,
   "id": "4e030c7c",
   "metadata": {},
   "outputs": [
    {
     "data": {
      "text/plain": [
       "2.4273453740093787e-97"
      ]
     },
     "execution_count": 44,
     "metadata": {},
     "output_type": "execute_result"
    }
   ],
   "source": [
    "f.pdf(F_stat, p, n-p-1)  ## P-value"
   ]
  },
  {
   "cell_type": "code",
   "execution_count": null,
   "id": "f6d985a7",
   "metadata": {},
   "outputs": [],
   "source": []
  },
  {
   "cell_type": "code",
   "execution_count": 58,
   "id": "eef2c76b",
   "metadata": {},
   "outputs": [
    {
     "data": {
      "text/plain": [
       "'chevrolet'"
      ]
     },
     "execution_count": 58,
     "metadata": {},
     "output_type": "execute_result"
    }
   ],
   "source": [
    "yo = pd.read_csv('../Lesson 2/Auto.csv', sep='\\t')\n",
    "\n",
    "auto = pd.read_csv('Auto.csv')\n",
    "auto.head()\n",
    " \n",
    "auto['name'].values[0].split(' ')[0]\n",
    "\n"
   ]
  },
  {
   "cell_type": "code",
   "execution_count": 61,
   "id": "c25fc157",
   "metadata": {},
   "outputs": [
    {
     "data": {
      "text/plain": [
       "0       True\n",
       "1      False\n",
       "2      False\n",
       "3      False\n",
       "4      False\n",
       "       ...  \n",
       "392    False\n",
       "393    False\n",
       "394    False\n",
       "395    False\n",
       "396    False\n",
       "Name: Mark, Length: 397, dtype: bool"
      ]
     },
     "execution_count": 61,
     "metadata": {},
     "output_type": "execute_result"
    }
   ],
   "source": [
    "dat = auto\n",
    "dat['Mark'] = [x.split(' ')[0] for x in dat['name'].values]\n",
    "#dat['Mark'].isin(['chevrolet', 'plymouth'])\n"
   ]
  },
  {
   "cell_type": "code",
   "execution_count": 63,
   "id": "d09c0daf",
   "metadata": {},
   "outputs": [
    {
     "data": {
      "text/html": [
       "<div>\n",
       "<style scoped>\n",
       "    .dataframe tbody tr th:only-of-type {\n",
       "        vertical-align: middle;\n",
       "    }\n",
       "\n",
       "    .dataframe tbody tr th {\n",
       "        vertical-align: top;\n",
       "    }\n",
       "\n",
       "    .dataframe thead th {\n",
       "        text-align: right;\n",
       "    }\n",
       "</style>\n",
       "<table border=\"1\" class=\"dataframe\">\n",
       "  <thead>\n",
       "    <tr style=\"text-align: right;\">\n",
       "      <th></th>\n",
       "      <th>mpg</th>\n",
       "      <th>cylinders</th>\n",
       "      <th>displacement</th>\n",
       "      <th>horsepower</th>\n",
       "      <th>weight</th>\n",
       "      <th>acceleration</th>\n",
       "      <th>year</th>\n",
       "      <th>origin</th>\n",
       "      <th>name</th>\n",
       "      <th>Mark</th>\n",
       "    </tr>\n",
       "  </thead>\n",
       "  <tbody>\n",
       "    <tr>\n",
       "      <th>0</th>\n",
       "      <td>18.0</td>\n",
       "      <td>8</td>\n",
       "      <td>307.0</td>\n",
       "      <td>130</td>\n",
       "      <td>3504</td>\n",
       "      <td>12.0</td>\n",
       "      <td>70</td>\n",
       "      <td>1</td>\n",
       "      <td>chevrolet chevelle malibu</td>\n",
       "      <td>chevrolet</td>\n",
       "    </tr>\n",
       "    <tr>\n",
       "      <th>2</th>\n",
       "      <td>18.0</td>\n",
       "      <td>8</td>\n",
       "      <td>318.0</td>\n",
       "      <td>150</td>\n",
       "      <td>3436</td>\n",
       "      <td>11.0</td>\n",
       "      <td>70</td>\n",
       "      <td>1</td>\n",
       "      <td>plymouth satellite</td>\n",
       "      <td>plymouth</td>\n",
       "    </tr>\n",
       "    <tr>\n",
       "      <th>6</th>\n",
       "      <td>14.0</td>\n",
       "      <td>8</td>\n",
       "      <td>454.0</td>\n",
       "      <td>220</td>\n",
       "      <td>4354</td>\n",
       "      <td>9.0</td>\n",
       "      <td>70</td>\n",
       "      <td>1</td>\n",
       "      <td>chevrolet impala</td>\n",
       "      <td>chevrolet</td>\n",
       "    </tr>\n",
       "    <tr>\n",
       "      <th>7</th>\n",
       "      <td>14.0</td>\n",
       "      <td>8</td>\n",
       "      <td>440.0</td>\n",
       "      <td>215</td>\n",
       "      <td>4312</td>\n",
       "      <td>8.5</td>\n",
       "      <td>70</td>\n",
       "      <td>1</td>\n",
       "      <td>plymouth fury iii</td>\n",
       "      <td>plymouth</td>\n",
       "    </tr>\n",
       "    <tr>\n",
       "      <th>11</th>\n",
       "      <td>14.0</td>\n",
       "      <td>8</td>\n",
       "      <td>340.0</td>\n",
       "      <td>160</td>\n",
       "      <td>3609</td>\n",
       "      <td>8.0</td>\n",
       "      <td>70</td>\n",
       "      <td>1</td>\n",
       "      <td>plymouth 'cuda 340</td>\n",
       "      <td>plymouth</td>\n",
       "    </tr>\n",
       "  </tbody>\n",
       "</table>\n",
       "</div>"
      ],
      "text/plain": [
       "     mpg  cylinders  displacement horsepower  weight  acceleration  year  \\\n",
       "0   18.0          8         307.0        130    3504          12.0    70   \n",
       "2   18.0          8         318.0        150    3436          11.0    70   \n",
       "6   14.0          8         454.0        220    4354           9.0    70   \n",
       "7   14.0          8         440.0        215    4312           8.5    70   \n",
       "11  14.0          8         340.0        160    3609           8.0    70   \n",
       "\n",
       "    origin                       name       Mark  \n",
       "0        1  chevrolet chevelle malibu  chevrolet  \n",
       "2        1         plymouth satellite   plymouth  \n",
       "6        1           chevrolet impala  chevrolet  \n",
       "7        1          plymouth fury iii   plymouth  \n",
       "11       1         plymouth 'cuda 340   plymouth  "
      ]
     },
     "execution_count": 63,
     "metadata": {},
     "output_type": "execute_result"
    }
   ],
   "source": [
    "dat = dat[dat['Mark'].isin(['chevrolet', 'plymouth'])]\n",
    "dat.head()"
   ]
  },
  {
   "cell_type": "code",
   "execution_count": 67,
   "id": "56f9e6da",
   "metadata": {},
   "outputs": [
    {
     "data": {
      "text/html": [
       "<table class=\"simpletable\">\n",
       "<caption>OLS Regression Results</caption>\n",
       "<tr>\n",
       "  <th>Dep. Variable:</th>    <td><statsmodels.regression.linear_model.RegressionResultsWrapper object at 0x7fd739492d60></td> <th>  R-squared:         </th> <td>   0.699</td>\n",
       "</tr>\n",
       "<tr>\n",
       "  <th>Model:</th>                                                      <td>OLS</td>                                           <th>  Adj. R-squared:    </th> <td>   0.690</td>\n",
       "</tr>\n",
       "<tr>\n",
       "  <th>Method:</th>                                                <td>Least Squares</td>                                      <th>  F-statistic:       </th> <td>   82.30</td>\n",
       "</tr>\n",
       "<tr>\n",
       "  <th>Date:</th>                                                <td>Sat, 17 Sep 2022</td>                                     <th>  Prob (F-statistic):</th> <td>3.22e-19</td>\n",
       "</tr>\n",
       "<tr>\n",
       "  <th>Time:</th>                                                    <td>15:46:48</td>                                         <th>  Log-Likelihood:    </th> <td> -202.83</td>\n",
       "</tr>\n",
       "<tr>\n",
       "  <th>No. Observations:</th>                                         <td>    74</td>                                          <th>  AIC:               </th> <td>   411.7</td>\n",
       "</tr>\n",
       "<tr>\n",
       "  <th>Df Residuals:</th>                                             <td>    71</td>                                          <th>  BIC:               </th> <td>   418.6</td>\n",
       "</tr>\n",
       "<tr>\n",
       "  <th>Df Model:</th>                                                 <td>     2</td>                                          <th>                     </th>     <td> </td>   \n",
       "</tr>\n",
       "<tr>\n",
       "  <th>Covariance Type:</th>                                         <td>nonrobust</td>                                        <th>                     </th>     <td> </td>   \n",
       "</tr>\n",
       "</table>\n",
       "<table class=\"simpletable\">\n",
       "<tr>\n",
       "          <td></td>            <th>coef</th>     <th>std err</th>      <th>t</th>      <th>P>|t|</th>  <th>[0.025</th>    <th>0.975]</th>  \n",
       "</tr>\n",
       "<tr>\n",
       "  <th>Intercept</th>        <td>   41.1104</td> <td>    1.720</td> <td>   23.902</td> <td> 0.000</td> <td>   37.681</td> <td>   44.540</td>\n",
       "</tr>\n",
       "<tr>\n",
       "  <th>Mark[T.plymouth]</th> <td>    0.7621</td> <td>    0.903</td> <td>    0.844</td> <td> 0.402</td> <td>   -1.038</td> <td>    2.563</td>\n",
       "</tr>\n",
       "<tr>\n",
       "  <th>cylinders</th>        <td>   -3.3615</td> <td>    0.264</td> <td>  -12.757</td> <td> 0.000</td> <td>   -3.887</td> <td>   -2.836</td>\n",
       "</tr>\n",
       "</table>\n",
       "<table class=\"simpletable\">\n",
       "<tr>\n",
       "  <th>Omnibus:</th>       <td> 4.010</td> <th>  Durbin-Watson:     </th> <td>   1.118</td>\n",
       "</tr>\n",
       "<tr>\n",
       "  <th>Prob(Omnibus):</th> <td> 0.135</td> <th>  Jarque-Bera (JB):  </th> <td>   3.448</td>\n",
       "</tr>\n",
       "<tr>\n",
       "  <th>Skew:</th>          <td> 0.524</td> <th>  Prob(JB):          </th> <td>   0.178</td>\n",
       "</tr>\n",
       "<tr>\n",
       "  <th>Kurtosis:</th>      <td> 3.145</td> <th>  Cond. No.          </th> <td>    25.3</td>\n",
       "</tr>\n",
       "</table><br/><br/>Notes:<br/>[1] Standard Errors assume that the covariance matrix of the errors is correctly specified."
      ],
      "text/plain": [
       "<class 'statsmodels.iolib.summary.Summary'>\n",
       "\"\"\"\n",
       "                                                               OLS Regression Results                                                              \n",
       "===================================================================================================================================================\n",
       "Dep. Variable:     <statsmodels.regression.linear_model.RegressionResultsWrapper object at 0x7fd739492d60>   R-squared:                       0.699\n",
       "Model:                                                                                                 OLS   Adj. R-squared:                  0.690\n",
       "Method:                                                                                      Least Squares   F-statistic:                     82.30\n",
       "Date:                                                                                     Sat, 17 Sep 2022   Prob (F-statistic):           3.22e-19\n",
       "Time:                                                                                             15:46:48   Log-Likelihood:                -202.83\n",
       "No. Observations:                                                                                       74   AIC:                             411.7\n",
       "Df Residuals:                                                                                           71   BIC:                             418.6\n",
       "Df Model:                                                                                                2                                         \n",
       "Covariance Type:                                                                                 nonrobust                                         \n",
       "====================================================================================\n",
       "                       coef    std err          t      P>|t|      [0.025      0.975]\n",
       "------------------------------------------------------------------------------------\n",
       "Intercept           41.1104      1.720     23.902      0.000      37.681      44.540\n",
       "Mark[T.plymouth]     0.7621      0.903      0.844      0.402      -1.038       2.563\n",
       "cylinders           -3.3615      0.264    -12.757      0.000      -3.887      -2.836\n",
       "==============================================================================\n",
       "Omnibus:                        4.010   Durbin-Watson:                   1.118\n",
       "Prob(Omnibus):                  0.135   Jarque-Bera (JB):                3.448\n",
       "Skew:                           0.524   Prob(JB):                        0.178\n",
       "Kurtosis:                       3.145   Cond. No.                         25.3\n",
       "==============================================================================\n",
       "\n",
       "Notes:\n",
       "[1] Standard Errors assume that the covariance matrix of the errors is correctly specified.\n",
       "\"\"\""
      ]
     },
     "execution_count": 67,
     "metadata": {},
     "output_type": "execute_result"
    }
   ],
   "source": [
    "mod = smf.ols(formula='mpg ~ cylinders + Mark', data = dat).fit()\n",
    "mod.summary(mod)"
   ]
  },
  {
   "cell_type": "code",
   "execution_count": 68,
   "id": "c3489708",
   "metadata": {},
   "outputs": [
    {
     "data": {
      "text/html": [
       "<table class=\"simpletable\">\n",
       "<caption>OLS Regression Results</caption>\n",
       "<tr>\n",
       "  <th>Dep. Variable:</th>    <td><statsmodels.regression.linear_model.RegressionResultsWrapper object at 0x7fd75d183b50></td> <th>  R-squared:         </th> <td>   0.724</td>\n",
       "</tr>\n",
       "<tr>\n",
       "  <th>Model:</th>                                                      <td>OLS</td>                                           <th>  Adj. R-squared:    </th> <td>   0.712</td>\n",
       "</tr>\n",
       "<tr>\n",
       "  <th>Method:</th>                                                <td>Least Squares</td>                                      <th>  F-statistic:       </th> <td>   61.14</td>\n",
       "</tr>\n",
       "<tr>\n",
       "  <th>Date:</th>                                                <td>Sat, 17 Sep 2022</td>                                     <th>  Prob (F-statistic):</th> <td>1.61e-19</td>\n",
       "</tr>\n",
       "<tr>\n",
       "  <th>Time:</th>                                                    <td>15:47:03</td>                                         <th>  Log-Likelihood:    </th> <td> -199.60</td>\n",
       "</tr>\n",
       "<tr>\n",
       "  <th>No. Observations:</th>                                         <td>    74</td>                                          <th>  AIC:               </th> <td>   407.2</td>\n",
       "</tr>\n",
       "<tr>\n",
       "  <th>Df Residuals:</th>                                             <td>    70</td>                                          <th>  BIC:               </th> <td>   416.4</td>\n",
       "</tr>\n",
       "<tr>\n",
       "  <th>Df Model:</th>                                                 <td>     3</td>                                          <th>                     </th>     <td> </td>   \n",
       "</tr>\n",
       "<tr>\n",
       "  <th>Covariance Type:</th>                                         <td>nonrobust</td>                                        <th>                     </th>     <td> </td>   \n",
       "</tr>\n",
       "</table>\n",
       "<table class=\"simpletable\">\n",
       "<tr>\n",
       "               <td></td>                 <th>coef</th>     <th>std err</th>      <th>t</th>      <th>P>|t|</th>  <th>[0.025</th>    <th>0.975]</th>  \n",
       "</tr>\n",
       "<tr>\n",
       "  <th>Intercept</th>                  <td>   38.0362</td> <td>    2.058</td> <td>   18.484</td> <td> 0.000</td> <td>   33.932</td> <td>   42.140</td>\n",
       "</tr>\n",
       "<tr>\n",
       "  <th>Mark[T.plymouth]</th>           <td>    8.7621</td> <td>    3.288</td> <td>    2.665</td> <td> 0.010</td> <td>    2.205</td> <td>   15.319</td>\n",
       "</tr>\n",
       "<tr>\n",
       "  <th>cylinders</th>                  <td>   -2.8608</td> <td>    0.322</td> <td>   -8.874</td> <td> 0.000</td> <td>   -3.504</td> <td>   -2.218</td>\n",
       "</tr>\n",
       "<tr>\n",
       "  <th>cylinders:Mark[T.plymouth]</th> <td>   -1.3217</td> <td>    0.524</td> <td>   -2.523</td> <td> 0.014</td> <td>   -2.366</td> <td>   -0.277</td>\n",
       "</tr>\n",
       "</table>\n",
       "<table class=\"simpletable\">\n",
       "<tr>\n",
       "  <th>Omnibus:</th>       <td> 1.300</td> <th>  Durbin-Watson:     </th> <td>   1.312</td>\n",
       "</tr>\n",
       "<tr>\n",
       "  <th>Prob(Omnibus):</th> <td> 0.522</td> <th>  Jarque-Bera (JB):  </th> <td>   1.356</td>\n",
       "</tr>\n",
       "<tr>\n",
       "  <th>Skew:</th>          <td> 0.286</td> <th>  Prob(JB):          </th> <td>   0.508</td>\n",
       "</tr>\n",
       "<tr>\n",
       "  <th>Kurtosis:</th>      <td> 2.663</td> <th>  Cond. No.          </th> <td>    59.3</td>\n",
       "</tr>\n",
       "</table><br/><br/>Notes:<br/>[1] Standard Errors assume that the covariance matrix of the errors is correctly specified."
      ],
      "text/plain": [
       "<class 'statsmodels.iolib.summary.Summary'>\n",
       "\"\"\"\n",
       "                                                               OLS Regression Results                                                              \n",
       "===================================================================================================================================================\n",
       "Dep. Variable:     <statsmodels.regression.linear_model.RegressionResultsWrapper object at 0x7fd75d183b50>   R-squared:                       0.724\n",
       "Model:                                                                                                 OLS   Adj. R-squared:                  0.712\n",
       "Method:                                                                                      Least Squares   F-statistic:                     61.14\n",
       "Date:                                                                                     Sat, 17 Sep 2022   Prob (F-statistic):           1.61e-19\n",
       "Time:                                                                                             15:47:03   Log-Likelihood:                -199.60\n",
       "No. Observations:                                                                                       74   AIC:                             407.2\n",
       "Df Residuals:                                                                                           70   BIC:                             416.4\n",
       "Df Model:                                                                                                3                                         \n",
       "Covariance Type:                                                                                 nonrobust                                         \n",
       "==============================================================================================\n",
       "                                 coef    std err          t      P>|t|      [0.025      0.975]\n",
       "----------------------------------------------------------------------------------------------\n",
       "Intercept                     38.0362      2.058     18.484      0.000      33.932      42.140\n",
       "Mark[T.plymouth]               8.7621      3.288      2.665      0.010       2.205      15.319\n",
       "cylinders                     -2.8608      0.322     -8.874      0.000      -3.504      -2.218\n",
       "cylinders:Mark[T.plymouth]    -1.3217      0.524     -2.523      0.014      -2.366      -0.277\n",
       "==============================================================================\n",
       "Omnibus:                        1.300   Durbin-Watson:                   1.312\n",
       "Prob(Omnibus):                  0.522   Jarque-Bera (JB):                1.356\n",
       "Skew:                           0.286   Prob(JB):                        0.508\n",
       "Kurtosis:                       2.663   Cond. No.                         59.3\n",
       "==============================================================================\n",
       "\n",
       "Notes:\n",
       "[1] Standard Errors assume that the covariance matrix of the errors is correctly specified.\n",
       "\"\"\""
      ]
     },
     "execution_count": 68,
     "metadata": {},
     "output_type": "execute_result"
    }
   ],
   "source": [
    "mod = smf.ols(formula='mpg ~ cylinders * Mark', data = dat).fit()\n",
    "mod.summary(mod)"
   ]
  },
  {
   "cell_type": "code",
   "execution_count": null,
   "id": "51055619",
   "metadata": {},
   "outputs": [],
   "source": []
  },
  {
   "cell_type": "code",
   "execution_count": null,
   "id": "1664c7c0",
   "metadata": {},
   "outputs": [],
   "source": []
  },
  {
   "cell_type": "code",
   "execution_count": null,
   "id": "bca8eedf",
   "metadata": {},
   "outputs": [],
   "source": []
  }
 ],
 "metadata": {
  "kernelspec": {
   "display_name": "Python 3",
   "language": "python",
   "name": "python3"
  },
  "language_info": {
   "codemirror_mode": {
    "name": "ipython",
    "version": 3
   },
   "file_extension": ".py",
   "mimetype": "text/x-python",
   "name": "python",
   "nbconvert_exporter": "python",
   "pygments_lexer": "ipython3",
   "version": "3.8.8"
  }
 },
 "nbformat": 4,
 "nbformat_minor": 5
}
